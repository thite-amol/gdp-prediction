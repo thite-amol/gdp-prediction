{
 "cells": [
  {
   "cell_type": "code",
   "execution_count": 35,
   "metadata": {},
   "outputs": [],
   "source": [
    "import pandas as pd\n",
    "import numpy as np\n",
    "from sklearn.model_selection import train_test_split\n",
    "from sklearn.preprocessing import StandardScaler\n",
    "from sklearn import metrics\n",
    "from sklearn.linear_model import LinearRegression\n",
    "from sklearn import metrics\n",
    "import matplotlib.pyplot as plt\n",
    "import seaborn as sns\n",
    "%matplotlib inline"
   ]
  },
  {
   "cell_type": "code",
   "execution_count": 3,
   "metadata": {},
   "outputs": [],
   "source": [
    "df = pd.read_csv('prediction.csv')"
   ]
  },
  {
   "cell_type": "code",
   "execution_count": 4,
   "metadata": {},
   "outputs": [
    {
     "data": {
      "text/html": [
       "<div>\n",
       "<style scoped>\n",
       "    .dataframe tbody tr th:only-of-type {\n",
       "        vertical-align: middle;\n",
       "    }\n",
       "\n",
       "    .dataframe tbody tr th {\n",
       "        vertical-align: top;\n",
       "    }\n",
       "\n",
       "    .dataframe thead th {\n",
       "        text-align: right;\n",
       "    }\n",
       "</style>\n",
       "<table border=\"1\" class=\"dataframe\">\n",
       "  <thead>\n",
       "    <tr style=\"text-align: right;\">\n",
       "      <th></th>\n",
       "      <th>Unnamed: 0</th>\n",
       "      <th>country</th>\n",
       "      <th>population</th>\n",
       "      <th>area</th>\n",
       "      <th>density</th>\n",
       "      <th>coastline_area_ratio</th>\n",
       "      <th>net_migration</th>\n",
       "      <th>infant_mortality</th>\n",
       "      <th>gdp_per_capita</th>\n",
       "      <th>literacy</th>\n",
       "      <th>...</th>\n",
       "      <th>region_BALTICS</th>\n",
       "      <th>region_C.W. OF IND. STATES</th>\n",
       "      <th>region_EASTERN EUROPE</th>\n",
       "      <th>region_LATIN AMER. &amp; CARIB</th>\n",
       "      <th>region_NEAR EAST</th>\n",
       "      <th>region_NORTHERN AFRICA</th>\n",
       "      <th>region_NORTHERN AMERICA</th>\n",
       "      <th>region_OCEANIA</th>\n",
       "      <th>region_SUB-SAHARAN AFRICA</th>\n",
       "      <th>region_WESTERN EUROPE</th>\n",
       "    </tr>\n",
       "  </thead>\n",
       "  <tbody>\n",
       "    <tr>\n",
       "      <th>0</th>\n",
       "      <td>0</td>\n",
       "      <td>Afghanistan</td>\n",
       "      <td>31056997</td>\n",
       "      <td>647500</td>\n",
       "      <td>48.0</td>\n",
       "      <td>0.00</td>\n",
       "      <td>23.06</td>\n",
       "      <td>163.07</td>\n",
       "      <td>700.0</td>\n",
       "      <td>36.0</td>\n",
       "      <td>...</td>\n",
       "      <td>0</td>\n",
       "      <td>0</td>\n",
       "      <td>0</td>\n",
       "      <td>0</td>\n",
       "      <td>0</td>\n",
       "      <td>0</td>\n",
       "      <td>0</td>\n",
       "      <td>0</td>\n",
       "      <td>0</td>\n",
       "      <td>0</td>\n",
       "    </tr>\n",
       "    <tr>\n",
       "      <th>1</th>\n",
       "      <td>1</td>\n",
       "      <td>Albania</td>\n",
       "      <td>3581655</td>\n",
       "      <td>28748</td>\n",
       "      <td>124.6</td>\n",
       "      <td>1.26</td>\n",
       "      <td>-4.93</td>\n",
       "      <td>21.52</td>\n",
       "      <td>4500.0</td>\n",
       "      <td>86.5</td>\n",
       "      <td>...</td>\n",
       "      <td>0</td>\n",
       "      <td>0</td>\n",
       "      <td>1</td>\n",
       "      <td>0</td>\n",
       "      <td>0</td>\n",
       "      <td>0</td>\n",
       "      <td>0</td>\n",
       "      <td>0</td>\n",
       "      <td>0</td>\n",
       "      <td>0</td>\n",
       "    </tr>\n",
       "    <tr>\n",
       "      <th>2</th>\n",
       "      <td>2</td>\n",
       "      <td>Algeria</td>\n",
       "      <td>32930091</td>\n",
       "      <td>2381740</td>\n",
       "      <td>13.8</td>\n",
       "      <td>0.04</td>\n",
       "      <td>-0.39</td>\n",
       "      <td>31.00</td>\n",
       "      <td>6000.0</td>\n",
       "      <td>70.0</td>\n",
       "      <td>...</td>\n",
       "      <td>0</td>\n",
       "      <td>0</td>\n",
       "      <td>0</td>\n",
       "      <td>0</td>\n",
       "      <td>0</td>\n",
       "      <td>1</td>\n",
       "      <td>0</td>\n",
       "      <td>0</td>\n",
       "      <td>0</td>\n",
       "      <td>0</td>\n",
       "    </tr>\n",
       "    <tr>\n",
       "      <th>3</th>\n",
       "      <td>3</td>\n",
       "      <td>American Samoa</td>\n",
       "      <td>57794</td>\n",
       "      <td>199</td>\n",
       "      <td>290.4</td>\n",
       "      <td>58.29</td>\n",
       "      <td>-20.71</td>\n",
       "      <td>9.27</td>\n",
       "      <td>8000.0</td>\n",
       "      <td>97.0</td>\n",
       "      <td>...</td>\n",
       "      <td>0</td>\n",
       "      <td>0</td>\n",
       "      <td>0</td>\n",
       "      <td>0</td>\n",
       "      <td>0</td>\n",
       "      <td>0</td>\n",
       "      <td>0</td>\n",
       "      <td>1</td>\n",
       "      <td>0</td>\n",
       "      <td>0</td>\n",
       "    </tr>\n",
       "    <tr>\n",
       "      <th>4</th>\n",
       "      <td>4</td>\n",
       "      <td>Andorra</td>\n",
       "      <td>71201</td>\n",
       "      <td>468</td>\n",
       "      <td>152.1</td>\n",
       "      <td>0.00</td>\n",
       "      <td>6.60</td>\n",
       "      <td>4.05</td>\n",
       "      <td>19000.0</td>\n",
       "      <td>100.0</td>\n",
       "      <td>...</td>\n",
       "      <td>0</td>\n",
       "      <td>0</td>\n",
       "      <td>0</td>\n",
       "      <td>0</td>\n",
       "      <td>0</td>\n",
       "      <td>0</td>\n",
       "      <td>0</td>\n",
       "      <td>0</td>\n",
       "      <td>0</td>\n",
       "      <td>1</td>\n",
       "    </tr>\n",
       "  </tbody>\n",
       "</table>\n",
       "<p>5 rows × 31 columns</p>\n",
       "</div>"
      ],
      "text/plain": [
       "   Unnamed: 0          country  population     area  density  \\\n",
       "0           0     Afghanistan     31056997   647500     48.0   \n",
       "1           1         Albania      3581655    28748    124.6   \n",
       "2           2         Algeria     32930091  2381740     13.8   \n",
       "3           3  American Samoa        57794      199    290.4   \n",
       "4           4         Andorra        71201      468    152.1   \n",
       "\n",
       "   coastline_area_ratio  net_migration  infant_mortality  gdp_per_capita  \\\n",
       "0                  0.00          23.06            163.07           700.0   \n",
       "1                  1.26          -4.93             21.52          4500.0   \n",
       "2                  0.04          -0.39             31.00          6000.0   \n",
       "3                 58.29         -20.71              9.27          8000.0   \n",
       "4                  0.00           6.60              4.05         19000.0   \n",
       "\n",
       "   literacy  ...  region_BALTICS                              \\\n",
       "0      36.0  ...                                           0   \n",
       "1      86.5  ...                                           0   \n",
       "2      70.0  ...                                           0   \n",
       "3      97.0  ...                                           0   \n",
       "4     100.0  ...                                           0   \n",
       "\n",
       "   region_C.W. OF IND. STATES   region_EASTERN EUROPE                       \\\n",
       "0                            0                                           0   \n",
       "1                            0                                           1   \n",
       "2                            0                                           0   \n",
       "3                            0                                           0   \n",
       "4                            0                                           0   \n",
       "\n",
       "   region_LATIN AMER. & CARIB      region_NEAR EAST                            \\\n",
       "0                               0                                           0   \n",
       "1                               0                                           0   \n",
       "2                               0                                           0   \n",
       "3                               0                                           0   \n",
       "4                               0                                           0   \n",
       "\n",
       "   region_NORTHERN AFRICA                      \\\n",
       "0                                           0   \n",
       "1                                           0   \n",
       "2                                           1   \n",
       "3                                           0   \n",
       "4                                           0   \n",
       "\n",
       "   region_NORTHERN AMERICA                     \\\n",
       "0                                           0   \n",
       "1                                           0   \n",
       "2                                           0   \n",
       "3                                           0   \n",
       "4                                           0   \n",
       "\n",
       "   region_OCEANIA                              \\\n",
       "0                                           0   \n",
       "1                                           0   \n",
       "2                                           0   \n",
       "3                                           1   \n",
       "4                                           0   \n",
       "\n",
       "   region_SUB-SAHARAN AFRICA                   \\\n",
       "0                                           0   \n",
       "1                                           0   \n",
       "2                                           0   \n",
       "3                                           0   \n",
       "4                                           0   \n",
       "\n",
       "   region_WESTERN EUROPE                       \n",
       "0                                           0  \n",
       "1                                           0  \n",
       "2                                           0  \n",
       "3                                           0  \n",
       "4                                           1  \n",
       "\n",
       "[5 rows x 31 columns]"
      ]
     },
     "execution_count": 4,
     "metadata": {},
     "output_type": "execute_result"
    }
   ],
   "source": [
    "df.head()"
   ]
  },
  {
   "cell_type": "markdown",
   "metadata": {},
   "source": [
    "##### Data Split 1: all of our final dataset, no scaling"
   ]
  },
  {
   "cell_type": "code",
   "execution_count": 8,
   "metadata": {},
   "outputs": [],
   "source": [
    "y = df['gdp_per_capita']\n",
    "X = df.drop(['gdp_per_capita','country'], axis=1)\n",
    "\n",
    "X_train, X_test, y_train, y_test = train_test_split(X, y, test_size=0.2, random_state=101)"
   ]
  },
  {
   "cell_type": "markdown",
   "metadata": {},
   "source": [
    "##### Data Split 2: all of our final dataset, with scaling"
   ]
  },
  {
   "cell_type": "code",
   "execution_count": 10,
   "metadata": {},
   "outputs": [],
   "source": [
    "sc_X = StandardScaler()\n",
    "\n",
    "X2_train = sc_X.fit_transform(X_train)\n",
    "X2_test = sc_X.fit_transform(X_test)\n",
    "y2_train = y_train\n",
    "y2_test = y_test"
   ]
  },
  {
   "cell_type": "markdown",
   "metadata": {},
   "source": [
    "##### Data Split 3: feature selected dataset, no scaling"
   ]
  },
  {
   "cell_type": "code",
   "execution_count": 12,
   "metadata": {},
   "outputs": [],
   "source": [
    "y3 = y\n",
    "X3 = df.drop(['gdp_per_capita','country','population', 'area', 'coastline_area_ratio', 'arable',\n",
    "                      'crops', 'other', 'climate', 'deathrate', 'industry'], axis=1)\n",
    "\n",
    "X3_train, X3_test, y3_train, y3_test = train_test_split(X3, y3, test_size=0.2, random_state=101)"
   ]
  },
  {
   "cell_type": "markdown",
   "metadata": {},
   "source": [
    "##### Data Split 4: feature selected dataset, with scaling"
   ]
  },
  {
   "cell_type": "code",
   "execution_count": 14,
   "metadata": {},
   "outputs": [],
   "source": [
    "sc_X4 = StandardScaler()\n",
    "\n",
    "X4_train = sc_X4.fit_transform(X3_train)\n",
    "X4_test = sc_X4.fit_transform(X3_test)\n",
    "y4_train = y3_train\n",
    "y4_test = y3_test"
   ]
  },
  {
   "cell_type": "markdown",
   "metadata": {},
   "source": [
    "## Linear Regression"
   ]
  },
  {
   "cell_type": "markdown",
   "metadata": {},
   "source": [
    "From our EDA, we can see that most features do not have a linear relationship with our labels (gdp_per_capita), yet we will try linear regression, and use the result as a reference (other methods should have better results)."
   ]
  },
  {
   "cell_type": "markdown",
   "metadata": {},
   "source": [
    "##### Model Training"
   ]
  },
  {
   "cell_type": "code",
   "execution_count": 17,
   "metadata": {},
   "outputs": [
    {
     "data": {
      "text/plain": [
       "LinearRegression(copy_X=True, fit_intercept=True, n_jobs=None, normalize=False)"
      ]
     },
     "execution_count": 17,
     "metadata": {},
     "output_type": "execute_result"
    }
   ],
   "source": [
    "lm1 = LinearRegression()\n",
    "lm1.fit(X_train,y_train)\n",
    "\n",
    "lm2 = LinearRegression()\n",
    "lm2.fit(X2_train,y2_train)\n",
    "\n",
    "lm3 = LinearRegression()\n",
    "lm3.fit(X3_train,y3_train)\n",
    "\n",
    "lm4 = LinearRegression()\n",
    "lm4.fit(X4_train,y4_train)"
   ]
  },
  {
   "cell_type": "markdown",
   "metadata": {},
   "source": [
    "##### Predictions"
   ]
  },
  {
   "cell_type": "code",
   "execution_count": 18,
   "metadata": {},
   "outputs": [],
   "source": [
    "lm1_pred = lm1.predict(X_test)\n",
    "lm2_pred = lm2.predict(X2_test)\n",
    "lm3_pred = lm3.predict(X3_test)\n",
    "lm4_pred = lm4.predict(X4_test)"
   ]
  },
  {
   "cell_type": "markdown",
   "metadata": {},
   "source": [
    "##### Evaluation"
   ]
  },
  {
   "cell_type": "code",
   "execution_count": 34,
   "metadata": {},
   "outputs": [
    {
     "name": "stdout",
     "output_type": "stream",
     "text": [
      "Linear Regression Performance:\n",
      "\n",
      "all features, No scaling:\n",
      "MAE: 329171.7397435003\n",
      "RMSE: 1564744.808311586\n",
      "R2_Score:  -29630.92001658731\n",
      "\n",
      "all features, with scaling:\n",
      "MAE: 567004.4781270018\n",
      "RMSE: 1278610.8291965171\n",
      "R2_Score:  -19784.613034778133\n",
      "\n",
      "selected features, No scaling:\n",
      "MAE: 2946.4499627575697\n",
      "RMSE: 4086.3827099135337\n",
      "R2_Score:  0.7979072050531746\n",
      "\n",
      "selected features, with scaling:\n",
      "MAE: 2870.9986609422162\n",
      "RMSE: 3743.7729352778474\n",
      "R2_Score:  0.8303742601709817\n"
     ]
    }
   ],
   "source": [
    "print('Linear Regression Performance:')\n",
    "\n",
    "print('\\nall features, No scaling:')\n",
    "print('MAE:', metrics.mean_absolute_error(y_test, lm1_pred))\n",
    "print('RMSE:', np.sqrt(metrics.mean_squared_error(y_test, lm1_pred)))\n",
    "print('R2_Score: ', metrics.r2_score(y_test, lm1_pred))\n",
    "\n",
    "print('\\nall features, with scaling:')\n",
    "print('MAE:', metrics.mean_absolute_error(y2_test, lm2_pred))\n",
    "print('RMSE:', np.sqrt(metrics.mean_squared_error(y2_test, lm2_pred)))\n",
    "print('R2_Score: ', metrics.r2_score(y2_test, lm2_pred))\n",
    "\n",
    "print('\\nselected features, No scaling:')\n",
    "print('MAE:', metrics.mean_absolute_error(y3_test, lm3_pred))\n",
    "print('RMSE:', np.sqrt(metrics.mean_squared_error(y3_test, lm3_pred)))\n",
    "print('R2_Score: ', metrics.r2_score(y3_test, lm3_pred))\n",
    "\n",
    "print('\\nselected features, with scaling:')\n",
    "print('MAE:', metrics.mean_absolute_error(y4_test, lm4_pred))\n",
    "print('RMSE:', np.sqrt(metrics.mean_squared_error(y4_test, lm4_pred)))\n",
    "print('R2_Score: ', metrics.r2_score(y4_test, lm4_pred))"
   ]
  },
  {
   "cell_type": "markdown",
   "metadata": {},
   "source": [
    "From the metrics above, it is clear that feature selection is essential for linear regression model training, in order to get acceptable results on this dataset. On the other hand, feature scaling has a small positive effect on LR's prediction performance. we got decent prediction performance from LR with feature selection and scaling."
   ]
  },
  {
   "cell_type": "code",
   "execution_count": 52,
   "metadata": {},
   "outputs": [
    {
     "data": {
      "image/png": "[encoded data removed]",
      "text/plain": [
       "<Figure size 864x432 with 1 Axes>"
      ]
     },
     "metadata": {
      "needs_background": "light"
     },
     "output_type": "display_data"
    }
   ],
   "source": [
    "fig = plt.figure(figsize=(12, 6))\n",
    "plt.scatter(y4_test,lm4_pred, linewidths=2, edgecolors='b', color='coral')\n",
    "plt.xlabel('True GDP per Capita') \n",
    "plt.ylabel('Predictions') \n",
    "plt.title('Linear Regression Prediction Performance (features selected and scaled)') \n",
    "plt.grid()\n",
    "plt.show()"
   ]
  },
  {
   "cell_type": "markdown",
   "metadata": {},
   "source": [
    "From the metrics above, it is clear that feature selection is essential for linear regression model training, in order to get acceptable results on this dataset. On the other hand, feature scaling has a small positive effect on LR's prediction performance.\n",
    "we got decent prediction performance from LR with feature selection and scaling."
   ]
  },
  {
   "cell_type": "code",
   "execution_count": null,
   "metadata": {},
   "outputs": [],
   "source": []
  }
 ],
 "metadata": {
  "kernelspec": {
   "display_name": "Python 3",
   "language": "python",
   "name": "python3"
  },
  "language_info": {
   "codemirror_mode": {
    "name": "ipython",
    "version": 3
   },
   "file_extension": ".py",
   "mimetype": "text/x-python",
   "name": "python",
   "nbconvert_exporter": "python",
   "pygments_lexer": "ipython3",
   "version": "3.7.6"
  }
 },
 "nbformat": 4,
 "nbformat_minor": 4
}

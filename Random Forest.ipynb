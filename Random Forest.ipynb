{
 "cells": [
  {
   "cell_type": "code",
   "execution_count": 19,
   "metadata": {},
   "outputs": [],
   "source": [
    "import pandas as pd\n",
    "import numpy as np\n",
    "from sklearn.model_selection import train_test_split\n",
    "from sklearn.preprocessing import StandardScaler\n",
    "from sklearn import metrics\n",
    "from sklearn import metrics\n",
    "import matplotlib.pyplot as plt\n",
    "import seaborn as sns\n",
    "%matplotlib inline\n",
    "from sklearn.ensemble import RandomForestRegressor\n",
    "from sklearn.model_selection import GridSearchCV"
   ]
  },
  {
   "cell_type": "code",
   "execution_count": 2,
   "metadata": {},
   "outputs": [],
   "source": [
    "df = pd.read_csv('prediction.csv')"
   ]
  },
  {
   "cell_type": "code",
   "execution_count": 3,
   "metadata": {},
   "outputs": [
    {
     "data": {
      "text/html": [
       "<div>\n",
       "<style scoped>\n",
       "    .dataframe tbody tr th:only-of-type {\n",
       "        vertical-align: middle;\n",
       "    }\n",
       "\n",
       "    .dataframe tbody tr th {\n",
       "        vertical-align: top;\n",
       "    }\n",
       "\n",
       "    .dataframe thead th {\n",
       "        text-align: right;\n",
       "    }\n",
       "</style>\n",
       "<table border=\"1\" class=\"dataframe\">\n",
       "  <thead>\n",
       "    <tr style=\"text-align: right;\">\n",
       "      <th></th>\n",
       "      <th>Unnamed: 0</th>\n",
       "      <th>country</th>\n",
       "      <th>population</th>\n",
       "      <th>area</th>\n",
       "      <th>density</th>\n",
       "      <th>coastline_area_ratio</th>\n",
       "      <th>net_migration</th>\n",
       "      <th>infant_mortality</th>\n",
       "      <th>gdp_per_capita</th>\n",
       "      <th>literacy</th>\n",
       "      <th>...</th>\n",
       "      <th>region_BALTICS</th>\n",
       "      <th>region_C.W. OF IND. STATES</th>\n",
       "      <th>region_EASTERN EUROPE</th>\n",
       "      <th>region_LATIN AMER. &amp; CARIB</th>\n",
       "      <th>region_NEAR EAST</th>\n",
       "      <th>region_NORTHERN AFRICA</th>\n",
       "      <th>region_NORTHERN AMERICA</th>\n",
       "      <th>region_OCEANIA</th>\n",
       "      <th>region_SUB-SAHARAN AFRICA</th>\n",
       "      <th>region_WESTERN EUROPE</th>\n",
       "    </tr>\n",
       "  </thead>\n",
       "  <tbody>\n",
       "    <tr>\n",
       "      <th>0</th>\n",
       "      <td>0</td>\n",
       "      <td>Afghanistan</td>\n",
       "      <td>31056997</td>\n",
       "      <td>647500</td>\n",
       "      <td>48.0</td>\n",
       "      <td>0.00</td>\n",
       "      <td>23.06</td>\n",
       "      <td>163.07</td>\n",
       "      <td>700.0</td>\n",
       "      <td>36.0</td>\n",
       "      <td>...</td>\n",
       "      <td>0</td>\n",
       "      <td>0</td>\n",
       "      <td>0</td>\n",
       "      <td>0</td>\n",
       "      <td>0</td>\n",
       "      <td>0</td>\n",
       "      <td>0</td>\n",
       "      <td>0</td>\n",
       "      <td>0</td>\n",
       "      <td>0</td>\n",
       "    </tr>\n",
       "    <tr>\n",
       "      <th>1</th>\n",
       "      <td>1</td>\n",
       "      <td>Albania</td>\n",
       "      <td>3581655</td>\n",
       "      <td>28748</td>\n",
       "      <td>124.6</td>\n",
       "      <td>1.26</td>\n",
       "      <td>-4.93</td>\n",
       "      <td>21.52</td>\n",
       "      <td>4500.0</td>\n",
       "      <td>86.5</td>\n",
       "      <td>...</td>\n",
       "      <td>0</td>\n",
       "      <td>0</td>\n",
       "      <td>1</td>\n",
       "      <td>0</td>\n",
       "      <td>0</td>\n",
       "      <td>0</td>\n",
       "      <td>0</td>\n",
       "      <td>0</td>\n",
       "      <td>0</td>\n",
       "      <td>0</td>\n",
       "    </tr>\n",
       "    <tr>\n",
       "      <th>2</th>\n",
       "      <td>2</td>\n",
       "      <td>Algeria</td>\n",
       "      <td>32930091</td>\n",
       "      <td>2381740</td>\n",
       "      <td>13.8</td>\n",
       "      <td>0.04</td>\n",
       "      <td>-0.39</td>\n",
       "      <td>31.00</td>\n",
       "      <td>6000.0</td>\n",
       "      <td>70.0</td>\n",
       "      <td>...</td>\n",
       "      <td>0</td>\n",
       "      <td>0</td>\n",
       "      <td>0</td>\n",
       "      <td>0</td>\n",
       "      <td>0</td>\n",
       "      <td>1</td>\n",
       "      <td>0</td>\n",
       "      <td>0</td>\n",
       "      <td>0</td>\n",
       "      <td>0</td>\n",
       "    </tr>\n",
       "    <tr>\n",
       "      <th>3</th>\n",
       "      <td>3</td>\n",
       "      <td>American Samoa</td>\n",
       "      <td>57794</td>\n",
       "      <td>199</td>\n",
       "      <td>290.4</td>\n",
       "      <td>58.29</td>\n",
       "      <td>-20.71</td>\n",
       "      <td>9.27</td>\n",
       "      <td>8000.0</td>\n",
       "      <td>97.0</td>\n",
       "      <td>...</td>\n",
       "      <td>0</td>\n",
       "      <td>0</td>\n",
       "      <td>0</td>\n",
       "      <td>0</td>\n",
       "      <td>0</td>\n",
       "      <td>0</td>\n",
       "      <td>0</td>\n",
       "      <td>1</td>\n",
       "      <td>0</td>\n",
       "      <td>0</td>\n",
       "    </tr>\n",
       "    <tr>\n",
       "      <th>4</th>\n",
       "      <td>4</td>\n",
       "      <td>Andorra</td>\n",
       "      <td>71201</td>\n",
       "      <td>468</td>\n",
       "      <td>152.1</td>\n",
       "      <td>0.00</td>\n",
       "      <td>6.60</td>\n",
       "      <td>4.05</td>\n",
       "      <td>19000.0</td>\n",
       "      <td>100.0</td>\n",
       "      <td>...</td>\n",
       "      <td>0</td>\n",
       "      <td>0</td>\n",
       "      <td>0</td>\n",
       "      <td>0</td>\n",
       "      <td>0</td>\n",
       "      <td>0</td>\n",
       "      <td>0</td>\n",
       "      <td>0</td>\n",
       "      <td>0</td>\n",
       "      <td>1</td>\n",
       "    </tr>\n",
       "  </tbody>\n",
       "</table>\n",
       "<p>5 rows × 31 columns</p>\n",
       "</div>"
      ],
      "text/plain": [
       "   Unnamed: 0          country  population     area  density  \\\n",
       "0           0     Afghanistan     31056997   647500     48.0   \n",
       "1           1         Albania      3581655    28748    124.6   \n",
       "2           2         Algeria     32930091  2381740     13.8   \n",
       "3           3  American Samoa        57794      199    290.4   \n",
       "4           4         Andorra        71201      468    152.1   \n",
       "\n",
       "   coastline_area_ratio  net_migration  infant_mortality  gdp_per_capita  \\\n",
       "0                  0.00          23.06            163.07           700.0   \n",
       "1                  1.26          -4.93             21.52          4500.0   \n",
       "2                  0.04          -0.39             31.00          6000.0   \n",
       "3                 58.29         -20.71              9.27          8000.0   \n",
       "4                  0.00           6.60              4.05         19000.0   \n",
       "\n",
       "   literacy  ...  region_BALTICS                              \\\n",
       "0      36.0  ...                                           0   \n",
       "1      86.5  ...                                           0   \n",
       "2      70.0  ...                                           0   \n",
       "3      97.0  ...                                           0   \n",
       "4     100.0  ...                                           0   \n",
       "\n",
       "   region_C.W. OF IND. STATES   region_EASTERN EUROPE                       \\\n",
       "0                            0                                           0   \n",
       "1                            0                                           1   \n",
       "2                            0                                           0   \n",
       "3                            0                                           0   \n",
       "4                            0                                           0   \n",
       "\n",
       "   region_LATIN AMER. & CARIB      region_NEAR EAST                            \\\n",
       "0                               0                                           0   \n",
       "1                               0                                           0   \n",
       "2                               0                                           0   \n",
       "3                               0                                           0   \n",
       "4                               0                                           0   \n",
       "\n",
       "   region_NORTHERN AFRICA                      \\\n",
       "0                                           0   \n",
       "1                                           0   \n",
       "2                                           1   \n",
       "3                                           0   \n",
       "4                                           0   \n",
       "\n",
       "   region_NORTHERN AMERICA                     \\\n",
       "0                                           0   \n",
       "1                                           0   \n",
       "2                                           0   \n",
       "3                                           0   \n",
       "4                                           0   \n",
       "\n",
       "   region_OCEANIA                              \\\n",
       "0                                           0   \n",
       "1                                           0   \n",
       "2                                           0   \n",
       "3                                           1   \n",
       "4                                           0   \n",
       "\n",
       "   region_SUB-SAHARAN AFRICA                   \\\n",
       "0                                           0   \n",
       "1                                           0   \n",
       "2                                           0   \n",
       "3                                           0   \n",
       "4                                           0   \n",
       "\n",
       "   region_WESTERN EUROPE                       \n",
       "0                                           0  \n",
       "1                                           0  \n",
       "2                                           0  \n",
       "3                                           0  \n",
       "4                                           1  \n",
       "\n",
       "[5 rows x 31 columns]"
      ]
     },
     "execution_count": 3,
     "metadata": {},
     "output_type": "execute_result"
    }
   ],
   "source": [
    "df.head()"
   ]
  },
  {
   "cell_type": "markdown",
   "metadata": {},
   "source": [
    "##### Data Split 1: all of our final dataset, no scaling\n"
   ]
  },
  {
   "cell_type": "code",
   "execution_count": 4,
   "metadata": {},
   "outputs": [],
   "source": [
    "y = df['gdp_per_capita']\n",
    "X = df.drop(['gdp_per_capita','country'], axis=1)\n",
    "\n",
    "X_train, X_test, y_train, y_test = train_test_split(X, y, test_size=0.2, random_state=101)"
   ]
  },
  {
   "cell_type": "markdown",
   "metadata": {},
   "source": [
    "##### Data Split 2: all of our final dataset, with scaling\n"
   ]
  },
  {
   "cell_type": "code",
   "execution_count": 5,
   "metadata": {},
   "outputs": [],
   "source": [
    "sc_X = StandardScaler()\n",
    "\n",
    "X2_train = sc_X.fit_transform(X_train)\n",
    "X2_test = sc_X.fit_transform(X_test)\n",
    "y2_train = y_train\n",
    "y2_test = y_test\n"
   ]
  },
  {
   "cell_type": "markdown",
   "metadata": {},
   "source": [
    "##### Data Split 3: feature selected dataset, no scaling"
   ]
  },
  {
   "cell_type": "code",
   "execution_count": 6,
   "metadata": {},
   "outputs": [],
   "source": [
    "y3 = y\n",
    "X3 = df.drop(['gdp_per_capita','country','population', 'area', 'coastline_area_ratio', 'arable',\n",
    "                      'crops', 'other', 'climate', 'deathrate', 'industry'], axis=1)\n",
    "\n",
    "X3_train, X3_test, y3_train, y3_test = train_test_split(X3, y3, test_size=0.2, random_state=101)\n"
   ]
  },
  {
   "cell_type": "markdown",
   "metadata": {},
   "source": [
    "##### Data Split 4: feature selected dataset, with scaling"
   ]
  },
  {
   "cell_type": "code",
   "execution_count": 8,
   "metadata": {},
   "outputs": [],
   "source": [
    "sc_X4 = StandardScaler()\n",
    "\n",
    "X4_train = sc_X4.fit_transform(X3_train)\n",
    "X4_test = sc_X4.fit_transform(X3_test)\n",
    "y4_train = y3_train\n",
    "y4_test = y3_test"
   ]
  },
  {
   "cell_type": "markdown",
   "metadata": {},
   "source": [
    "## Random Forest"
   ]
  },
  {
   "cell_type": "markdown",
   "metadata": {},
   "source": [
    "Let's first try random forest with our data splits (with and without feature selection). Scaling is not going to be tested for Random Forest, since it should not affect this algorithm's performance. later we will try to improve its performance."
   ]
  },
  {
   "cell_type": "markdown",
   "metadata": {},
   "source": [
    "##### Model Training"
   ]
  },
  {
   "cell_type": "code",
   "execution_count": 12,
   "metadata": {},
   "outputs": [
    {
     "data": {
      "text/plain": [
       "RandomForestRegressor(bootstrap=True, ccp_alpha=0.0, criterion='mse',\n",
       "                      max_depth=None, max_features='auto', max_leaf_nodes=None,\n",
       "                      max_samples=None, min_impurity_decrease=0.0,\n",
       "                      min_impurity_split=None, min_samples_leaf=1,\n",
       "                      min_samples_split=2, min_weight_fraction_leaf=0.0,\n",
       "                      n_estimators=200, n_jobs=None, oob_score=False,\n",
       "                      random_state=101, verbose=0, warm_start=False)"
      ]
     },
     "execution_count": 12,
     "metadata": {},
     "output_type": "execute_result"
    }
   ],
   "source": [
    "rf1 = RandomForestRegressor(random_state=101, n_estimators=200)\n",
    "rf3 = RandomForestRegressor(random_state=101, n_estimators=200)\n",
    "\n",
    "rf1.fit(X_train, y_train)\n",
    "rf3.fit(X3_train, y3_train)"
   ]
  },
  {
   "cell_type": "code",
   "execution_count": 13,
   "metadata": {},
   "outputs": [],
   "source": [
    "rf1_pred = rf1.predict(X_test)\n",
    "rf3_pred = rf3.predict(X3_test)"
   ]
  },
  {
   "cell_type": "code",
   "execution_count": 14,
   "metadata": {},
   "outputs": [
    {
     "name": "stdout",
     "output_type": "stream",
     "text": [
      "Random Forest Performance:\n",
      "\n",
      "all features, No scaling:\n",
      "MAE: 2207.804347826087\n",
      "RMSE: 3207.952113244455\n",
      "R2_Score:  0.8754543660363124\n",
      "\n",
      "selected features, No scaling:\n",
      "MAE: 2403.358695652174\n",
      "RMSE: 3549.0739491787335\n",
      "R2_Score:  0.847558627188669\n"
     ]
    }
   ],
   "source": [
    "print('Random Forest Performance:')\n",
    "\n",
    "print('\\nall features, No scaling:')\n",
    "print('MAE:', metrics.mean_absolute_error(y_test, rf1_pred))\n",
    "print('RMSE:', np.sqrt(metrics.mean_squared_error(y_test, rf1_pred)))\n",
    "print('R2_Score: ', metrics.r2_score(y_test, rf1_pred))\n",
    "\n",
    "print('\\nselected features, No scaling:')\n",
    "print('MAE:', metrics.mean_absolute_error(y3_test, rf3_pred))\n",
    "print('RMSE:', np.sqrt(metrics.mean_squared_error(y3_test, rf3_pred)))\n",
    "print('R2_Score: ', metrics.r2_score(y3_test, rf3_pred))"
   ]
  },
  {
   "cell_type": "markdown",
   "metadata": {},
   "source": [
    "fig = plt.figure(figsize=(12, 6))\n",
    "plt.scatter(y_test,rf1_pred,color='coral', linewidths=2, edgecolors='k')\n",
    "plt.xlabel('True GDP per Capita') \n",
    "plt.ylabel('Predictions') \n",
    "plt.title('Random Forest prediction Performance (No feature selection)') \n",
    "plt.grid()\n",
    "plt.show()"
   ]
  },
  {
   "cell_type": "markdown",
   "metadata": {},
   "source": [
    "#### Optimization"
   ]
  },
  {
   "cell_type": "markdown",
   "metadata": {},
   "source": [
    "We will use grid search in order to obtain good parameters for our RF regressor. Of course our optimization here will be limited due to time and computing power constraints. The parameters we will optimize are: \n",
    "\n",
    "1. n-estimators \n",
    "2. min_samples_leaf\n",
    "3. max_features\n",
    "4. bootstrap"
   ]
  },
  {
   "cell_type": "code",
   "execution_count": 17,
   "metadata": {},
   "outputs": [],
   "source": [
    "rf_param_grid = {'max_features': ['sqrt', 'auto'],\n",
    "              'min_samples_leaf': [1, 3, 5],\n",
    "              'n_estimators': [100, 500, 1000],\n",
    "             'bootstrap': [False, True]} "
   ]
  },
  {
   "cell_type": "code",
   "execution_count": 20,
   "metadata": {},
   "outputs": [],
   "source": [
    "rf_grid = GridSearchCV(estimator= RandomForestRegressor(), param_grid = rf_param_grid,  n_jobs=-1, verbose=0)"
   ]
  },
  {
   "cell_type": "code",
   "execution_count": 21,
   "metadata": {},
   "outputs": [
    {
     "data": {
      "text/plain": [
       "GridSearchCV(cv=None, error_score=nan,\n",
       "             estimator=RandomForestRegressor(bootstrap=True, ccp_alpha=0.0,\n",
       "                                             criterion='mse', max_depth=None,\n",
       "                                             max_features='auto',\n",
       "                                             max_leaf_nodes=None,\n",
       "                                             max_samples=None,\n",
       "                                             min_impurity_decrease=0.0,\n",
       "                                             min_impurity_split=None,\n",
       "                                             min_samples_leaf=1,\n",
       "                                             min_samples_split=2,\n",
       "                                             min_weight_fraction_leaf=0.0,\n",
       "                                             n_estimators=100, n_jobs=None,\n",
       "                                             oob_score=False, random_state=None,\n",
       "                                             verbose=0, warm_start=False),\n",
       "             iid='deprecated', n_jobs=-1,\n",
       "             param_grid={'bootstrap': [False, True],\n",
       "                         'max_features': ['sqrt', 'auto'],\n",
       "                         'min_samples_leaf': [1, 3, 5],\n",
       "                         'n_estimators': [100, 500, 1000]},\n",
       "             pre_dispatch='2*n_jobs', refit=True, return_train_score=False,\n",
       "             scoring=None, verbose=0)"
      ]
     },
     "execution_count": 21,
     "metadata": {},
     "output_type": "execute_result"
    }
   ],
   "source": [
    "rf_grid.fit(X_train,y_train)"
   ]
  },
  {
   "cell_type": "code",
   "execution_count": 22,
   "metadata": {},
   "outputs": [
    {
     "data": {
      "text/plain": [
       "{'bootstrap': False,\n",
       " 'max_features': 'sqrt',\n",
       " 'min_samples_leaf': 1,\n",
       " 'n_estimators': 100}"
      ]
     },
     "execution_count": 22,
     "metadata": {},
     "output_type": "execute_result"
    }
   ],
   "source": [
    "rf_grid.best_params_"
   ]
  },
  {
   "cell_type": "code",
   "execution_count": 23,
   "metadata": {},
   "outputs": [
    {
     "data": {
      "text/plain": [
       "RandomForestRegressor(bootstrap=False, ccp_alpha=0.0, criterion='mse',\n",
       "                      max_depth=None, max_features='sqrt', max_leaf_nodes=None,\n",
       "                      max_samples=None, min_impurity_decrease=0.0,\n",
       "                      min_impurity_split=None, min_samples_leaf=1,\n",
       "                      min_samples_split=2, min_weight_fraction_leaf=0.0,\n",
       "                      n_estimators=100, n_jobs=None, oob_score=False,\n",
       "                      random_state=None, verbose=0, warm_start=False)"
      ]
     },
     "execution_count": 23,
     "metadata": {},
     "output_type": "execute_result"
    }
   ],
   "source": [
    "rf_grid.best_estimator_"
   ]
  },
  {
   "cell_type": "code",
   "execution_count": 24,
   "metadata": {},
   "outputs": [],
   "source": [
    "rf_grid_predictions = rf_grid.predict(X_test)"
   ]
  },
  {
   "cell_type": "code",
   "execution_count": 25,
   "metadata": {},
   "outputs": [
    {
     "name": "stdout",
     "output_type": "stream",
     "text": [
      "MAE: 2201.6739130434785\n",
      "RMSE: 2961.5842668351033\n",
      "R2_Score:  0.8938497692158326\n"
     ]
    }
   ],
   "source": [
    "print('MAE:', metrics.mean_absolute_error(y_test, rf_grid_predictions))\n",
    "print('RMSE:', np.sqrt(metrics.mean_squared_error(y_test, rf_grid_predictions)))\n",
    "print('R2_Score: ', metrics.r2_score(y_test, rf_grid_predictions))"
   ]
  },
  {
   "cell_type": "code",
   "execution_count": 27,
   "metadata": {},
   "outputs": [
    {
     "data": {
      "image/png": "[encoded data removed]",
      "text/plain": [
       "<Figure size 864x432 with 1 Axes>"
      ]
     },
     "metadata": {
      "needs_background": "light"
     },
     "output_type": "display_data"
    }
   ],
   "source": [
    "fig = plt.figure(figsize=(12, 6))\n",
    "plt.scatter(y_test,rf_grid_predictions, linewidths=2, edgecolors='b', color='coral')\n",
    "plt.xlabel('True GDP per Capita') \n",
    "plt.ylabel('Predictions') \n",
    "plt.title('Optimized Random Forest prediction Performance (No feature selection)') \n",
    "plt.grid()\n",
    "plt.show()"
   ]
  },
  {
   "cell_type": "markdown",
   "metadata": {},
   "source": [
    "We can see that the optimization process on RF regressor has not changed the performance in a noticeable manner, yet the slight change was actually to the worst, that is probably because our initial parameters were already very close to the optimum ones."
   ]
  },
  {
   "cell_type": "code",
   "execution_count": null,
   "metadata": {},
   "outputs": [],
   "source": []
  }
 ],
 "metadata": {
  "kernelspec": {
   "display_name": "Python 3",
   "language": "python",
   "name": "python3"
  },
  "language_info": {
   "codemirror_mode": {
    "name": "ipython",
    "version": 3
   },
   "file_extension": ".py",
   "mimetype": "text/x-python",
   "name": "python",
   "nbconvert_exporter": "python",
   "pygments_lexer": "ipython3",
   "version": "3.7.6"
  }
 },
 "nbformat": 4,
 "nbformat_minor": 4
}
